{
 "cells": [
  {
   "metadata": {},
   "cell_type": "markdown",
   "source": "# Scraping Ulasan Aplikasi M-Paspor di Google Play Store",
   "id": "5a3b3ee3c86802ed"
  },
  {
   "metadata": {},
   "cell_type": "code",
   "outputs": [],
   "execution_count": null,
   "source": [
    "# Mengimpor pustaka google_play_scraper untuk mengakses ulasan dan informasi aplikasi dari Google Play Store.\n",
    "from google_play_scraper import app, reviews, Sort\n",
    "\n",
    "# Mengambil semua ulasan dari aplikasi dengan ID  di Google Play Store.\n",
    "# Proses scraping mungkin memerlukan beberapa saat tergantung pada jumlah ulasan yang ada.\n",
    "scrapreview, _ = reviews(\n",
    "    'id.go.imigrasi.paspor_online',          # ID aplikasi\n",
    "    lang='id',             # Bahasa ulasan (default: 'en')\n",
    "    country='id',          # Negara (default: 'us')\n",
    "    sort=Sort.MOST_RELEVANT, # Urutan ulasan (default: Sort.MOST_RELEVANT)\n",
    "    count=10000             # Jumlah maksimum ulasan yang ingin diambil\n",
    ")"
   ],
   "id": "c6b1fa10a82699d0"
  }
 ],
 "metadata": {
  "kernelspec": {
   "display_name": "Python 3",
   "language": "python",
   "name": "python3"
  },
  "language_info": {
   "codemirror_mode": {
    "name": "ipython",
    "version": 2
   },
   "file_extension": ".py",
   "mimetype": "text/x-python",
   "name": "python",
   "nbconvert_exporter": "python",
   "pygments_lexer": "ipython2",
   "version": "2.7.6"
  }
 },
 "nbformat": 4,
 "nbformat_minor": 5
}
